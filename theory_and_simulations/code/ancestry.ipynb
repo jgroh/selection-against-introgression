{
 "cells": [
  {
   "cell_type": "code",
   "execution_count": 7,
   "metadata": {},
   "outputs": [
    {
     "data": {
      "text/plain": [
       "'/Users/jeff/workspace/selection-against-introgression/simulations/code'"
      ]
     },
     "execution_count": 7,
     "metadata": {},
     "output_type": "execute_result"
    }
   ],
   "source": [
    "import subprocess, msprime, pyslim\n",
    "import matplotlib.pyplot as plt\n",
    "import numpy as np\n",
    "import pandas as pd\n",
    "import os\n",
    "os.getcwd()"
   ]
  },
  {
   "cell_type": "code",
   "execution_count": 8,
   "metadata": {},
   "outputs": [
    {
     "name": "stderr",
     "output_type": "stream",
     "text": [
      "/Users/jeff/.local/lib/python3.8/site-packages/pyslim-0.403-py3.8.egg/pyslim/slim_tree_sequence.py:780: UserWarning: This is an version 0.4 SLiM tree sequence. When you write this out, it will be converted to version 0.5.\n",
      "  warnings.warn(\"This is an version {} SLiM tree sequence.\".format(file_version) +\n"
     ]
    }
   ],
   "source": [
    "# run simulation\n",
    "#subprocess.check_output([\"slim\", \"-m\", \"-s\", \"0\", \"code/intra-chrom.slim\"])\n",
    "# Load the .trees file\n",
    "ts = pyslim.load(\"/Users/jeff/workspace/selection-against-introgression/simulations/results/single-sweep/replicate1_gen0005.trees\").simplify()"
   ]
  },
  {
   "cell_type": "code",
   "execution_count": 9,
   "metadata": {
    "scrolled": true
   },
   "outputs": [
    {
     "name": "stdout",
     "output_type": "stream",
     "text": [
      "Tree sequence has 1024 trees\n",
      "Tree sequence has 65061 nodes\n",
      "Tree sequence spans 1024.0 positions\n",
      "Tree sequence has 20000 samples\n",
      "Tree sequence has 12756 individuals\n",
      "Tree sequence has 1024 sites\n"
     ]
    }
   ],
   "source": [
    "print(\"Tree sequence has {} trees\".format(ts.num_trees))\n",
    "print(\"Tree sequence has {} nodes\".format(ts.num_nodes))\n",
    "print(\"Tree sequence spans {} positions\".format(ts.sequence_length))\n",
    "print(\"Tree sequence has {} samples\".format(ts.num_samples))\n",
    "print(\"Tree sequence has {} individuals\".format(ts.num_individuals))\n",
    "print(\"Tree sequence has {} sites\".format(ts.num_sites))\n"
   ]
  },
  {
   "cell_type": "code",
   "execution_count": 5,
   "metadata": {},
   "outputs": [
    {
     "data": {
      "text/plain": [
       "['gen0001',\n",
       " 'gen0002',\n",
       " 'gen0003',\n",
       " 'gen0004',\n",
       " 'gen0005',\n",
       " 'gen0010',\n",
       " 'gen0050',\n",
       " 'gen0100',\n",
       " 'gen0250',\n",
       " 'gen0500',\n",
       " 'gen0750',\n",
       " 'gen1000']"
      ]
     },
     "execution_count": 5,
     "metadata": {},
     "output_type": "execute_result"
    }
   ],
   "source": [
    "[\"gen\" + num for num in [\"0001\",\"0002\",\"0003\",\"0004\",\"0005\",\"0010\",\"0050\",\"0100\",\"0250\",\"0500\",\"0750\",\"1000\"]]"
   ]
  },
  {
   "cell_type": "code",
   "execution_count": 17,
   "metadata": {
    "jupyter": {
     "source_hidden": true
    }
   },
   "outputs": [
    {
     "data": {
      "text/plain": [
       "0.391"
      ]
     },
     "execution_count": 17,
     "metadata": {},
     "output_type": "execute_result"
    }
   ],
   "source": [
    "G = ts.genotype_matrix(isolated_as_missing=False)\n",
    "np.mean(G[1,:])\n",
    "#G[-10:,-10:]\n",
    "#np.mean(np.absolute(G[1,:]))\n",
    "#np.mean(np.abs(G[1, :100]))"
   ]
  },
  {
   "cell_type": "code",
   "execution_count": 20,
   "metadata": {},
   "outputs": [],
   "source": [
    "ssets = [ts.samples(p) for p in range(ts.num_populations)]\n",
    "sset=[ssets[0]]\n"
   ]
  },
  {
   "cell_type": "code",
   "execution_count": 16,
   "metadata": {},
   "outputs": [],
   "source": [
    "def allele_frequencies(ts, sample_sets=None):\n",
    "    if sample_sets is None:\n",
    "       sample_sets = [ts.samples()] \n",
    "    n = np.array([len(x) for x in sample_sets])\n",
    "    def f(x):\n",
    "       return x / n\n",
    "    return ts.sample_count_stat(sample_sets, f, len(sample_sets), windows='sites', polarised=True, mode='site', strict=False, span_normalise = True)\n"
   ]
  },
  {
   "cell_type": "code",
   "execution_count": 21,
   "metadata": {},
   "outputs": [
    {
     "data": {
      "text/plain": [
       "0.165526904296875"
      ]
     },
     "execution_count": 21,
     "metadata": {},
     "output_type": "execute_result"
    }
   ],
   "source": [
    "val = allele_frequencies(ts, sample_sets=sset).tolist()\n",
    "val\n",
    "val = [item for sublist in val for item in sublist]\n",
    "pos = [s.position for s in ts.sites()]\n",
    "pos = [int(i) for i in pos]\n",
    "freq = [0]*int(ts.sequence_length)\n",
    "\n",
    "for i in range(0,len(pos)):\n",
    "    freq[pos[i]]=val[i]\n",
    "    \n",
    "np.mean(freq)\n",
    "\n",
    "#print(\"file\", *freq)"
   ]
  },
  {
   "cell_type": "code",
   "execution_count": 10,
   "metadata": {},
   "outputs": [
    {
     "data": {
      "text/plain": [
       "[<matplotlib.lines.Line2D at 0x7fe34c1875b0>]"
      ]
     },
     "execution_count": 10,
     "metadata": {},
     "output_type": "execute_result"
    },
    {
     "data": {
      "image/png": "[encoded data removed]",
      "text/plain": [
       "<Figure size 432x288 with 1 Axes>"
      ]
     },
     "metadata": {
      "needs_background": "light"
     },
     "output_type": "display_data"
    }
   ],
   "source": [
    "plt.plot(np.arange(0,1000).tolist(), freq)\n",
    "    "
   ]
  },
  {
   "cell_type": "code",
   "execution_count": 13,
   "metadata": {},
   "outputs": [
    {
     "name": "stderr",
     "output_type": "stream",
     "text": [
      "/Users/jeff/opt/anaconda3/lib/python3.8/site-packages/tskit/trees.py:668: RuntimeWarning: The sample_counts option is not supported since 0.2.4 and is ignored\n",
      "  warnings.warn(\n"
     ]
    },
    {
     "name": "stdout",
     "output_type": "stream",
     "text": [
      "[0.44859507 0.44855529 0.44863714 ... 0.44633001 0.44637562 0.44640356]\n"
     ]
    }
   ],
   "source": [
    "breaks = np.zeros(ts.num_trees + 1)\n",
    "ancestry = np.zeros(ts.num_trees + 1)\n",
    "ancestry_all_seq = np.zeros(int(ts.sequence_length))\n",
    "for tree in ts.trees(sample_counts=True):\n",
    "    subpop_sum, subpop_weights = 0, 0\n",
    "    for root in tree.roots:\n",
    "        leaves_count = tree.num_samples(root) - 1 # the root is a sample \n",
    "        \n",
    "        subpop_sum += tree.population(root) * leaves_count \n",
    "        # for population 0, this will be 0. for population 1, it will sum the number of individuals descended from that population. \n",
    "        \n",
    "        subpop_weights += leaves_count\n",
    "    breaks[tree.index] = tree.interval[0]\n",
    "    ancestry[tree.index] = subpop_sum / subpop_weights\n",
    "    \n",
    "    ancestry_all_seq[ list(range (int(tree.interval[0]), int(tree.interval[1]) ))  ] = subpop_sum / subpop_weights\n",
    "    \n",
    "breaks[-1] = ts.sequence_length\n",
    "ancestry[-1] = ancestry[-2]\n",
    "     # Make a simple plot\n",
    "print(ancestry_all_seq)\n",
    "#plt.plot(np.arange(0,1024).tolist(), ancestry_all_seq)\n",
    "\n"
   ]
  },
  {
   "cell_type": "code",
   "execution_count": null,
   "metadata": {},
   "outputs": [],
   "source": [
    "np.savetxt(\"../results/ancestry-500.csv\", ancestry_all_seq, delimiter = \",\")"
   ]
  },
  {
   "cell_type": "code",
   "execution_count": null,
   "metadata": {},
   "outputs": [],
   "source": [
    "tree1 = ts.at(0)\n",
    "tree2 = ts.at(1)\n",
    "tree1.interval\n",
    "start = list(tree2.interval)[0]\n",
    "stop = list(tree2.interval)[1]\n",
    "list([start, stop])"
   ]
  },
  {
   "cell_type": "raw",
   "metadata": {},
   "source": [
    "tu = (1, 10)\n",
    "list(range(list(tu)[0], list(tu)[1]))"
   ]
  },
  {
   "cell_type": "code",
   "execution_count": null,
   "metadata": {},
   "outputs": [],
   "source": [
    "len(breaks)\n",
    "len(ancestry)"
   ]
  },
  {
   "cell_type": "code",
   "execution_count": null,
   "metadata": {
    "jupyter": {
     "source_hidden": true
    }
   },
   "outputs": [],
   "source": [
    "tree1 = ts.at(900)"
   ]
  },
  {
   "cell_type": "code",
   "execution_count": null,
   "metadata": {},
   "outputs": [],
   "source": [
    "ts.num_trees\n"
   ]
  },
  {
   "cell_type": "code",
   "execution_count": null,
   "metadata": {},
   "outputs": [],
   "source": [
    "tree1.interval"
   ]
  },
  {
   "cell_type": "code",
   "execution_count": null,
   "metadata": {},
   "outputs": [],
   "source": [
    "for root in tree1.roots:\n",
    "    pops.append(tree1.population(root))"
   ]
  },
  {
   "cell_type": "code",
   "execution_count": null,
   "metadata": {},
   "outputs": [],
   "source": [
    "root1 = tree1.roots[1]\n",
    "leaves_count = tree1.num_samples(root1)\n",
    "leaves_count"
   ]
  },
  {
   "cell_type": "code",
   "execution_count": null,
   "metadata": {},
   "outputs": [],
   "source": [
    "leaves_count = tree1.num_samples(root1)\n",
    "tree1.population(root1) * leaves_count"
   ]
  },
  {
   "cell_type": "code",
   "execution_count": null,
   "metadata": {
    "jupyter": {
     "outputs_hidden": true
    }
   },
   "outputs": [],
   "source": [
    "for root in tree1.roots:\n",
    "    print(tree1.population(root))"
   ]
  },
  {
   "cell_type": "code",
   "execution_count": null,
   "metadata": {},
   "outputs": [],
   "source": [
    "tree1.num_samples(root1)\n",
    "tree1.population(root1)"
   ]
  },
  {
   "cell_type": "code",
   "execution_count": null,
   "metadata": {
    "jupyter": {
     "outputs_hidden": true
    }
   },
   "outputs": [],
   "source": [
    "list(range(0,100))"
   ]
  },
  {
   "cell_type": "code",
   "execution_count": null,
   "metadata": {},
   "outputs": [],
   "source": []
  },
  {
   "cell_type": "code",
   "execution_count": null,
   "metadata": {},
   "outputs": [],
   "source": []
  }
 ],
 "metadata": {
  "kernelspec": {
   "display_name": "Python 3",
   "language": "python",
   "name": "python3"
  },
  "language_info": {
   "codemirror_mode": {
    "name": "ipython",
    "version": 3
   },
   "file_extension": ".py",
   "mimetype": "text/x-python",
   "name": "python",
   "nbconvert_exporter": "python",
   "pygments_lexer": "ipython3",
   "version": "3.8.3"
  }
 },
 "nbformat": 4,
 "nbformat_minor": 4
}
